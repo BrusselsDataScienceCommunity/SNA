{
 "metadata": {
  "name": "",
  "signature": "sha256:02bdab147f5325f3df74a581cd301cd4daac2be2e118bbed77ad311aa2c8927a"
 },
 "nbformat": 3,
 "nbformat_minor": 0,
 "worksheets": [
  {
   "cells": [
    {
     "cell_type": "code",
     "collapsed": false,
     "input": [
      "import networkx as nx\n",
      "import matplotlib as plt\n",
      "%matplotlib inline\n",
      "import community #Louvain method for community detection from http://perso.crans.org/aynaud/communities/"
     ],
     "language": "python",
     "metadata": {},
     "outputs": [],
     "prompt_number": 116
    },
    {
     "cell_type": "code",
     "collapsed": false,
     "input": [
      "def read_gdf(path,directed = False):\n",
      "    if directed:\n",
      "        G = nx.DiGraph()\n",
      "    else:\n",
      "        G = nx.Graph()\n",
      "    state = None\n",
      "    nodes = []\n",
      "    edges = []\n",
      "    for line in open(path,'r'):\n",
      "        line = line.rstrip()\n",
      "        if line[0:8] == 'nodedef>':\n",
      "            state = 'nodes'\n",
      "            nodeattr = [x.split()[0] for x in line[8:].split(',')]\n",
      "        elif line[0:8]== 'edgedef>':\n",
      "            state = 'edges'\n",
      "            edgeattr = [x.split()[0] for x in line[8:].split(',')]\n",
      "        else:\n",
      "            if state == 'nodes':\n",
      "                nodes.append(line.split(','))\n",
      "            elif state == 'edges':\n",
      "                edges.append(line.split(','))\n",
      "            else:\n",
      "                print 'Unused line!'\n",
      "    for n in nodes:\n",
      "        G.add_node(n[0])\n",
      "        for idx,extradata in enumerate(n[1:]):\n",
      "            G.node[n[0]][nodeattr[idx+1]]=extradata\n",
      "    for e in edges:\n",
      "        G.add_edge(e[0],e[1])\n",
      "        for idx,extradata in enumerate(e[2:]):\n",
      "            G.node[e[0]][e[1]][nodeattr[idx+2]]=extradata\n",
      "    return G"
     ],
     "language": "python",
     "metadata": {},
     "outputs": [],
     "prompt_number": 117
    },
    {
     "cell_type": "code",
     "collapsed": false,
     "input": [
      "#G = read_gdf('data/graphs/gdf/followers-graph-of-DataScienceBe.gdf')\n",
      "G = read_gdf('data/graphs/gdf/followers-graph-of-DataScienceBe-BeGrowthHacking-BeTech_.gdf')"
     ],
     "language": "python",
     "metadata": {},
     "outputs": [],
     "prompt_number": 118
    },
    {
     "cell_type": "code",
     "collapsed": false,
     "input": [
      "#Get the largest connected component\n",
      "cc = [(c,len(c)) for c in nx.connected_components(G)]\n",
      "maxlencc = max([x[1] for x in cc])\n",
      "for x in cc:\n",
      "    if x[1] == maxlencc:\n",
      "        maxcc = x[0]\n",
      "H = G.subgraph(maxcc)"
     ],
     "language": "python",
     "metadata": {},
     "outputs": [],
     "prompt_number": 119
    },
    {
     "cell_type": "code",
     "collapsed": false,
     "input": [
      "len(H.nodes())"
     ],
     "language": "python",
     "metadata": {},
     "outputs": [
      {
       "metadata": {},
       "output_type": "pyout",
       "prompt_number": 120,
       "text": [
        "3094"
       ]
      }
     ],
     "prompt_number": 120
    },
    {
     "cell_type": "code",
     "collapsed": false,
     "input": [
      "partition = community.best_partition(H)"
     ],
     "language": "python",
     "metadata": {},
     "outputs": [],
     "prompt_number": 121
    },
    {
     "cell_type": "code",
     "collapsed": false,
     "input": [
      "from collections import defaultdict\n",
      "commlist= set([partition[x] for x in partition])\n",
      "comm = [[] for c in commlist]\n",
      "for n in H.nodes():\n",
      "    comm[partition[n]].append(n)"
     ],
     "language": "python",
     "metadata": {},
     "outputs": [],
     "prompt_number": 122
    },
    {
     "cell_type": "code",
     "collapsed": false,
     "input": [
      "print 'Sizes of the communities:'\n",
      "for i in comm:\n",
      "    print len(i)"
     ],
     "language": "python",
     "metadata": {},
     "outputs": [
      {
       "output_type": "stream",
       "stream": "stdout",
       "text": [
        "Size of the communities:\n",
        "802\n",
        "564\n",
        "223\n",
        "225\n",
        "1266\n",
        "7\n",
        "4\n",
        "3\n"
       ]
      }
     ],
     "prompt_number": 147
    },
    {
     "cell_type": "markdown",
     "metadata": {},
     "source": [
      "See top influencers"
     ]
    },
    {
     "cell_type": "code",
     "collapsed": false,
     "input": [
      "import operator\n",
      "def get_top_influencers(G,top=10):\n",
      "    prk = nx.pagerank(G)\n",
      "    sprk = sorted(prk.items(), key=operator.itemgetter(1),reverse=True)\n",
      "    toplabels = [G.node[n]['label'] for n,__ in sprk[:10]]\n",
      "    return toplabels"
     ],
     "language": "python",
     "metadata": {},
     "outputs": [],
     "prompt_number": 144
    },
    {
     "cell_type": "code",
     "collapsed": false,
     "input": [
      "for c in comm:\n",
      "    cgraph = H.subgraph(c)\n",
      "    print len(c),get_top_influencers(cgraph)"
     ],
     "language": "python",
     "metadata": {},
     "outputs": [
      {
       "output_type": "stream",
       "stream": "stdout",
       "text": [
        "802 "
       ]
      },
      {
       "output_type": "stream",
       "stream": "stdout",
       "text": [
        "['creativeskills', 'janseurinck', 'lamazone', 'kodel', 'gertbaudoncq', '10to1', 'mschenk', 'JoeriDeBouvere', 'dannydevriendt', 'Beatever']\n",
        "564 "
       ]
      },
      {
       "output_type": "stream",
       "stream": "stdout",
       "text": [
        "['roald', 'Toon', 'seynaeve', 'davanac', 'JeanYves', 'olbow', 'carmelo', 'barthox', 'ppolleunus', 'TheAfter']\n",
        "223 "
       ]
      },
      {
       "output_type": "stream",
       "stream": "stdout",
       "text": [
        "['hanssmellinckx', 'Kaajee', 'thomas_spaas', 'chrissmit', 'dantegabryell', 'IngridLarik', 'fvangils', 'TheArtof_Cool', 'wilfredbruin', 'RikMende']\n",
        "225 "
       ]
      },
      {
       "output_type": "stream",
       "stream": "stdout",
       "text": [
        "['itworks', 'YvesMulkers', 'hconstandt', 'stevenn', 'NickBoucart', 'peter_v', 'hansver', 'jopxtwits', 'lodeblomme', 'koenvervloesem']\n",
        "1266 "
       ]
      },
      {
       "output_type": "stream",
       "stream": "stdout",
       "text": [
        "['swiderek', 'Kalido', 'RDub2', 'BeGrowthHacking', 'obrimark', 'JonahLupton', 'growth_hunter', 'mikepluta', 'ALLEGIENT', 'jpsigwalt']\n",
        "7 ['bramverniest', 'SClub_Kortrijk', 'GrowtHackersBE', 'karimdahdah', 'qbussmarthome', 'StartupsBelgium', 'AnTanghe']\n",
        "4 ['uwehook', 'adebola13', 'vdlindenF', 'Ycontent']\n",
        "3 ['rcaptijn', 'larssorensen', 'iMonitoring']\n"
       ]
      }
     ],
     "prompt_number": 146
    },
    {
     "cell_type": "code",
     "collapsed": false,
     "input": [],
     "language": "python",
     "metadata": {},
     "outputs": []
    }
   ],
   "metadata": {}
  }
 ]
}